{
  "nbformat": 4,
  "nbformat_minor": 0,
  "metadata": {
    "colab": {
      "provenance": [],
      "authorship_tag": "ABX9TyOgstlkv873pidwB2hTSpvv",
      "include_colab_link": true
    },
    "kernelspec": {
      "name": "python3",
      "display_name": "Python 3"
    },
    "language_info": {
      "name": "python"
    }
  },
  "cells": [
    {
      "cell_type": "markdown",
      "metadata": {
        "id": "view-in-github",
        "colab_type": "text"
      },
      "source": [
        "<a href=\"https://colab.research.google.com/github/Sarayu2043/S-2043/blob/main/exp_1.ipynb\" target=\"_parent\"><img src=\"https://colab.research.google.com/assets/colab-badge.svg\" alt=\"Open In Colab\"/></a>"
      ]
    },
    {
      "cell_type": "code",
      "execution_count": 1,
      "metadata": {
        "colab": {
          "base_uri": "https://localhost:8080/"
        },
        "id": "SpWONXR9GdiV",
        "outputId": "a941c600-f4ea-432c-da0b-42704eb77a9c"
      },
      "outputs": [
        {
          "output_type": "stream",
          "name": "stdout",
          "text": [
            "Real and different roots: -0.23240812075600178 and -1.434258545910665\n"
          ]
        }
      ],
      "source": [
        "a=30\n",
        "b=50\n",
        "c=10\n",
        "discriminant = b**2-4*a*c\n",
        "\n",
        "if discriminant > 0:\n",
        "  root1 = (-b + discriminant**0.5)/(2*a)\n",
        "  root2 = (-b - discriminant**0.5)/(2*a)\n",
        "  print(f\"Real and different roots: {root1} and {root2}\")\n",
        "elif discriminant == 0:\n",
        "  root = -b/(2*a)\n",
        "  print(f\"Real and equal roots: {root}\")\n",
        "else :\n",
        "  real_part = -b/(2*a)\n",
        "  imaginary_part = (-discriminant)**0.5/(2*a)\n",
        "  print(f\"Complex roots: {real_part} + {imaginary_part}i and {real_part} - {imaginary_part}i\")"
      ]
    },
    {
      "cell_type": "code",
      "source": [
        "a=float(input(\"Enter coefficient a: \"))\n",
        "b=float(input(\"Enter coefficient b: \"))\n",
        "c=float(input(\"Enter coefficient c: \"))\n",
        "discriminant = b**2-4*a*c\n",
        "\n",
        "if discriminant > 0:\n",
        "  root1 = (-b + discriminant**0.5)/(2*a)\n",
        "  root2 = (-b - discriminant**0.5)/(2*a)\n",
        "  print(f\"Real and different roots: {root1},{root2}\")\n",
        "elif discriminant == 0:\n",
        "  root = -b/(2*a)\n",
        "  print(f\"Real and equal roots: {root}\")\n",
        "else:\n",
        "  real_part = -b/(2*a)\n",
        "  imaginary_part = (-discriminant)**0.5/(2*a)\n",
        "  print(f\"Complex roots:{real_part}+-{imaginary_part}i\")"
      ],
      "metadata": {
        "colab": {
          "base_uri": "https://localhost:8080/"
        },
        "id": "5Plr_0YtGggZ",
        "outputId": "f91f8c65-fa7c-4833-9968-64f2ca7ff542"
      },
      "execution_count": 2,
      "outputs": [
        {
          "output_type": "stream",
          "name": "stdout",
          "text": [
            "Enter coefficient a: 30\n",
            "Enter coefficient b: 50\n",
            "Enter coefficient c: 20\n",
            "Real and different roots: -0.6666666666666666,-1.0\n"
          ]
        }
      ]
    },
    {
      "cell_type": "code",
      "source": [
        "def calculate_weather(t, H, W):\n",
        "    w = 0.5 * t**2 - 0.2 * H + 0.1 * W - 15\n",
        "    return w\n",
        "\n",
        "# Hardcoded values\n",
        "t = 25  # Temperature (in °C)\n",
        "H = 70  # Humidity (in %)\n",
        "W = 10  # Wind speed (in km/h)\n",
        "\n",
        "w = calculate_weather(t, H, W)\n",
        "print(f\"Calculated weather value w: {w}\")"
      ],
      "metadata": {
        "colab": {
          "base_uri": "https://localhost:8080/"
        },
        "id": "SsEuyJ1XGh93",
        "outputId": "56d96a8c-2fa5-4656-9e97-6940c6231a3b"
      },
      "execution_count": 3,
      "outputs": [
        {
          "output_type": "stream",
          "name": "stdout",
          "text": [
            "Calculated weather value w: 284.5\n"
          ]
        }
      ]
    },
    {
      "cell_type": "code",
      "source": [
        "def calculate_weather(t, H, W):\n",
        "    w = 0.5 * t**2 - 0.2 * H + 0.1 * W - 15\n",
        "    return w\n",
        "\n",
        "# Accepting input via keyboard\n",
        "t = float(input(\"Enter temperature (t in °C): \"))\n",
        "H = float(input(\"Enter humidity (H in %): \"))\n",
        "W = float(input(\"Enter wind speed (W in km/h): \"))\n",
        "\n",
        "w = calculate_weather(t, H, W)\n",
        "print(f\"Calculated weather value w: {w}\")"
      ],
      "metadata": {
        "colab": {
          "base_uri": "https://localhost:8080/"
        },
        "id": "c4vR2RkGG8rY",
        "outputId": "0eb9abd4-b439-46c2-c9f4-d4955c35d694"
      },
      "execution_count": 4,
      "outputs": [
        {
          "output_type": "stream",
          "name": "stdout",
          "text": [
            "Enter temperature (t in °C): 30\n",
            "Enter humidity (H in %): 50\n",
            "Enter wind speed (W in km/h): 20\n",
            "Calculated weather value w: 427.0\n"
          ]
        }
      ]
    },
    {
      "cell_type": "code",
      "source": [
        "def calculate_weather(t, H, W):\n",
        "    w = 0.5 * t**2 - 0.2 * H + 0.1 * W - 15\n",
        "    return w\n",
        "\n",
        "try:\n",
        "    with open('inputs.txt', 'r') as file:\n",
        "        for line in file:\n",
        "            t, H, W = map(float, line.split())\n",
        "            w = calculate_weather(t, H, W)\n",
        "            print(f\"Calculated weather value w for t={t}, H={H}, W={W}: {w}\")\n",
        "except FileNotFoundError:\n",
        "    print(\"The file 'inputs.txt' was not found.\")"
      ],
      "metadata": {
        "colab": {
          "base_uri": "https://localhost:8080/"
        },
        "id": "uY7WQs1cHCmE",
        "outputId": "f3801f39-e61f-4b7d-9d55-28dc287e1530"
      },
      "execution_count": 5,
      "outputs": [
        {
          "output_type": "stream",
          "name": "stdout",
          "text": [
            "The file 'inputs.txt' was not found.\n"
          ]
        }
      ]
    },
    {
      "cell_type": "code",
      "source": [
        "def calculate_weather(t, H, W):\n",
        "    w = 0.5 * t**2 - 0.2 * H + 0.1 * W - 15\n",
        "    return w\n",
        "\n",
        "# Single set of inputs\n",
        "t = 25  # Temperature (in °C)\n",
        "H = 70  # Humidity (in %)\n",
        "W = 10  # Wind speed (in km/h)\n",
        "\n",
        "w = calculate_weather(t, H, W)\n",
        "print(f\"Calculated weather value w for t={t}, H={H}, W={W}: {w}\")"
      ],
      "metadata": {
        "colab": {
          "base_uri": "https://localhost:8080/"
        },
        "id": "Z4XgEmt-HGtc",
        "outputId": "9a630223-0b25-44c8-d0e9-0c9cc1952237"
      },
      "execution_count": 6,
      "outputs": [
        {
          "output_type": "stream",
          "name": "stdout",
          "text": [
            "Calculated weather value w for t=25, H=70, W=10: 284.5\n"
          ]
        }
      ]
    },
    {
      "cell_type": "code",
      "source": [
        "def calculate_weather(t, H, W):\n",
        "    w = 0.5 * t**2 - 0.2 * H + 0.1 * W - 15\n",
        "    return w\n",
        "\n",
        "# Single set of inputs\n",
        "t = 25  # Temperature (in °C)\n",
        "H = 70  # Humidity (in %)\n",
        "W = 10  # Wind speed (in km/h)\n",
        "\n",
        "w = calculate_weather(t, H, W)\n",
        "print(f\"Calculated weather value w for t={t}, H={H}, W={W}: {w}\")"
      ],
      "metadata": {
        "colab": {
          "base_uri": "https://localhost:8080/"
        },
        "id": "oIPImexsHM48",
        "outputId": "4f743f42-fb9a-42e9-e6c3-4f39ad1be437"
      },
      "execution_count": 7,
      "outputs": [
        {
          "output_type": "stream",
          "name": "stdout",
          "text": [
            "Calculated weather value w for t=25, H=70, W=10: 284.5\n"
          ]
        }
      ]
    },
    {
      "cell_type": "code",
      "source": [
        "def calculate_weather(t, H, W):\n",
        "    # Calculate weather value using the given quadratic equation\n",
        "    w = 0.5 * t**2 - 0.2 * H + 0.1 * W - 15\n",
        "    return w\n",
        "\n",
        "def classify_weather(w):\n",
        "    # Classify the weather based on the value of 'w'\n",
        "    if w >= 200 and w <= 400:\n",
        "        return \"Sunny\"\n",
        "    elif w >= 100 and w < 200:\n",
        "        return \"Cloudy\"\n",
        "    elif w >= 0 and w < 100:\n",
        "        return \"Rainy\"\n",
        "    elif w < 0:\n",
        "        return \"Stormy\"\n",
        "    else:\n",
        "        return \"Unknown\"\n",
        "\n",
        "# Test scenarios for prediction\n",
        "scenarios = [\n",
        "    {\"t\": 25, \"H\": 70, \"W\": 10},  # Scenario 1\n",
        "    {\"t\": 35, \"H\": 90, \"W\": 15},  # Scenario 2\n",
        "    {\"t\": 15, \"H\": 80, \"W\": 5},   # Scenario 3\n",
        "    {\"t\": 40, \"H\": 50, \"W\": 20},  # Scenario 4\n",
        "    {\"t\": 5, \"H\": 95, \"W\": 0}     # Scenario 5\n",
        "]\n",
        "\n",
        "# Process each scenario and predict the weather\n",
        "for scenario in scenarios:\n",
        "    t = scenario[\"t\"]\n",
        "    H = scenario[\"H\"]\n",
        "    W = scenario[\"W\"]\n",
        "\n",
        "    w = calculate_weather(t, H, W)\n",
        "    weather_condition = classify_weather(w)\n",
        "\n",
        "    print(f\"Prediction for t={t}°C, H={H}%, W={W} km/h: w = {w}, Weather: {weather_condition}\")"
      ],
      "metadata": {
        "colab": {
          "base_uri": "https://localhost:8080/"
        },
        "id": "1RpZM-9jHQBv",
        "outputId": "c6b1c40d-5d2b-46d6-c6c0-a3d00cd4e958"
      },
      "execution_count": 8,
      "outputs": [
        {
          "output_type": "stream",
          "name": "stdout",
          "text": [
            "Prediction for t=25°C, H=70%, W=10 km/h: w = 284.5, Weather: Sunny\n",
            "Prediction for t=35°C, H=90%, W=15 km/h: w = 581.0, Weather: Unknown\n",
            "Prediction for t=15°C, H=80%, W=5 km/h: w = 82.0, Weather: Rainy\n",
            "Prediction for t=40°C, H=50%, W=20 km/h: w = 777.0, Weather: Unknown\n",
            "Prediction for t=5°C, H=95%, W=0 km/h: w = -21.5, Weather: Stormy\n"
          ]
        }
      ]
    }
  ]
}